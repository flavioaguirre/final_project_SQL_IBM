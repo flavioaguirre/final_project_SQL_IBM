{
 "cells": [
  {
   "cell_type": "markdown",
   "id": "9dd6afb2-f6a0-4d29-a551-7da4a7f731f8",
   "metadata": {},
   "source": [
    "<center>\n",
    "    <img src=\"https://cf-courses-data.s3.us.cloud-object-storage.appdomain.cloud/IBMDeveloperSkillsNetwork-DB0201EN-SkillsNetwork/labs/FinalModule_Coursera_V5/images/SN_web_lightmode.png\" width=\"300\" alt=\"cognitiveclass.ai logo\">\n",
    "</center>\n",
    "\n",
    "<h1 align=center><font size = 5>Assignment: Notebook for Graded Assessment</font></h1>\n"
   ]
  },
  {
   "cell_type": "markdown",
   "id": "d3ced40e-a008-4d6f-90c4-6db24ae5152e",
   "metadata": {},
   "source": [
    "# Introducción\n",
    "\n",
    "Con este cuaderno de Python, podrá:\n",
    "\n",
    "1. Comprender tres conjuntos de datos de Chicago.\n",
    "2. Cargar los tres conjuntos de datos en tres tablas de una base de datos SQLIte.\n",
    "3. Ejecutar consultas SQL para responder preguntas sobre los datos que contienen estos DataSets.\n"
   ]
  },
  {
   "cell_type": "markdown",
   "id": "07d73b2c-62b5-4b0a-b4d6-64b824c71596",
   "metadata": {},
   "source": [
    "## Comprender los DataSets\n",
    "\n",
    "Para completar los problemas de asignación en este cuaderno, utilizará tres conjuntos de datos que están disponibles en el Portal de datos de la ciudad de Chicago:\n",
    "\n",
    "1.  <a href=\"https://data.cityofchicago.org/Health-Human-Services/Census-Data-Selected-socioeconomic-indicators-in-C/kn9c-c2s2?utm_medium=Exinfluencer&utm_source=Exinfluencer&utm_content=000026UJ&utm_term=10006555&utm_id=NA-SkillsNetwork-Channel-SkillsNetworkCoursesIBMDeveloperSkillsNetworkDB0201ENSkillsNetwork20127838-2021-01-01\">Socioeconomic Indicators in Chicago</a>\n",
    "2.  <a href=\"https://data.cityofchicago.org/Education/Chicago-Public-Schools-Progress-Report-Cards-2011-/9xs2-f89t?utm_medium=Exinfluencer&utm_source=Exinfluencer&utm_content=000026UJ&utm_term=10006555&utm_id=NA-SkillsNetwork-Channel-SkillsNetworkCoursesIBMDeveloperSkillsNetworkDB0201ENSkillsNetwork20127838-2021-01-01\">Chicago Public Schools</a>\n",
    "3.  <a href=\"https://data.cityofchicago.org/Public-Safety/Crimes-2001-to-present/ijzp-q8t2?utm_medium=Exinfluencer&utm_source=Exinfluencer&utm_content=000026UJ&utm_term=10006555&utm_id=NA-SkillsNetwork-Channel-SkillsNetworkCoursesIBMDeveloperSkillsNetworkDB0201ENSkillsNetwork20127838-2021-01-01\">Chicago Crime Data</a>\n",
    "\n",
    "### 1. Indicadores socioeconómicos en Chicago\n",
    "\n",
    "Este conjunto de datos contiene una selección de seis indicadores socioeconómicos de importancia para la salud pública y un \"índice de dificultades\" para cada área comunitaria de Chicago, para los años 2008 a 2012.\n",
    "\n",
    "Se puede obtener una descripción detallada de este conjunto de datos y del conjunto de datos original en el Portal de datos de Chicago en:\n",
    "\n",
    "[https://data.cityofchicago.org/Health-Human-Services/Census-Data-Selected-socioeconomic-indicators-in-C/kn9c-c2s2](https://data.cityofchicago.org/Health-Human-Services/Census-Data-Selected-socioeconomic-indicators-in-C/kn9c-c2s2?utm_medium=Exinfluencer&utm_source=Exinfluencer&utm_content=000026UJ&utm_term=10006555&utm_id=NA-SkillsNetwork-Channel-SkillsNetworkCoursesIBMDeveloperSkillsNetworkDB0201ENSkillsNetwork20127838-2021-01-01&cm_mmc=Email_Newsletter-\\_-Developer_Ed%2BTech-\\_-WW_WW-\\_-SkillsNetwork-Courses-IBMDeveloperSkillsNetwork-DB0201EN-SkillsNetwork-20127838&cm_mmca1=000026UJ&cm_mmca2=10006555&cm_mmca3=M12345678&cvosrc=email.Newsletter.M12345678&cvo_campaign=000026UJ)\n",
    "\n",
    "### 2. Escuelas públicas de Chicago\n",
    "\n",
    "Este conjunto de datos muestra todos los datos de desempeño a nivel escolar utilizados para crear los boletines de calificaciones escolares de CPS para el año escolar 2011-2012. Este conjunto de datos es proporcionado por el Portal de datos de la ciudad de Chicago.\n",
    "\n",
    "Se puede obtener una descripción detallada de este conjunto de datos y del conjunto de datos original en el Portal de datos de Chicago en:\n",
    "\n",
    "[https://data.cityofchicago.org/Education/Chicago-Public-Schools-Progress-Report-Cards-2011-/9xs2-f89t](https://data.cityofchicago.org/Education/Chicago-Public-Schools-Progress-Report-Cards-2011-/9xs2-f89t?utm_medium=Exinfluencer&utm_source=Exinfluencer&utm_content=000026UJ&utm_term=10006555&utm_id=NA-SkillsNetwork-Channel-SkillsNetworkCoursesIBMDeveloperSkillsNetworkDB0201ENSkillsNetwork20127838-2021-01-01&cm_mmc=Email_Newsletter-\\_-Developer_Ed%2BTech-\\_-WW_WW-\\_-SkillsNetwork-Courses-IBMDeveloperSkillsNetwork-DB0201EN-SkillsNetwork-20127838&cm_mmca1=000026UJ&cm_mmca2=10006555&cm_mmca3=M12345678&cvosrc=email.Newsletter.M12345678&cvo_campaign=000026UJ)\n",
    "\n",
    "### 3. Datos sobre delitos en Chicago\n",
    "\n",
    "Este conjunto de datos refleja los incidentes delictivos denunciados (con excepción de los asesinatos, en los que existen datos de cada víctima) que ocurrieron en la ciudad de Chicago desde 2001 hasta la actualidad, menos los siete días más recientes.\n",
    "\n",
    "Se puede obtener una descripción detallada de este conjunto de datos y del conjunto de datos original en el Portal de datos de Chicago en:\n",
    "\n",
    "[https://data.cityofchicago.org/Public-Safety/Crimes-2001-to-present/ijzp-q8t2](https://data.cityofchicago.org/Public-Safety/Crimes-2001-to-present/ijzp-q8t2?utm_medium=Exinfluencer&utm_source=Exinfluencer&utm_content=000026UJ&utm_term=10006555&utm_id=NA-SkillsNetwork-Channel-SkillsNetworkCoursesIBMDeveloperSkillsNetworkDB0201ENSkillsNetwork20127838-2021-01-01&cm_mmc=Email_Newsletter-\\_-Developer_Ed%2BTech-\\_-WW_WW-\\_-SkillsNetwork-Courses-IBMDeveloperSkillsNetwork-DB0201EN-SkillsNetwork-20127838&cm_mmca1=000026UJ&cm_mmca2=10006555&cm_mmca3=M12345678&cvosrc=email.Newsletter.M12345678&cvo_campaign=000026UJ)\n"
   ]
  },
  {
   "cell_type": "markdown",
   "id": "b13e2395-4b5e-4694-ae81-9f333d2c686d",
   "metadata": {},
   "source": [
    "### Descargar los conjuntos de datos\n",
    "\n",
    "Esta tarea requiere que estas tres tablas estén completas con un subconjunto de los conjuntos de datos completos.\n",
    "\n",
    "En muchos casos, el conjunto de datos que se analizará está disponible como un archivo .CSV (valores separados por comas), quizás en Internet.\n",
    "\n",
    "Utilice los enlaces a continuación para leer los archivos de datos utilizando la biblioteca Pandas.\n",
    "\n",
    "* Datos del censo de Chicago\n",
    "\n",
    "https://cf-courses-data.s3.us.cloud-object-storage.appdomain.cloud/IBMDeveloperSkillsNetwork-DB0201EN-SkillsNetwork/labs/FinalModule_Coursera_V5/data/ChicagoCensusData.csv?utm_medium=Exinfluencer&utm_source=Exinfluencer&utm_content=000026UJ&utm_term=10006555&utm_id=NA-SkillsNetwork-Channel-SkillsNetworkCoursesIBMDeveloperSkillsNetworkDB0201ENSkillsNetwork20127838-2021-01-01\n",
    "\n",
    "* Chicago Public Schools\n",
    "\n",
    "https://cf-courses-data.s3.us.cloud-object-storage.appdomain.cloud/IBMDeveloperSkillsNetwork-DB0201EN-SkillsNetwork/labs/FinalModule_Coursera_V5/data/ChicagoPublicSchools.csv?utm_medium=Exinfluencer&utm_source=Exinfluencer&utm_content=000026UJ&utm_term=10006555&utm_id=NA-SkillsNetwork-Channel-SkillsNetworkCoursesIBMDeveloperSkillsNetworkDB0201ENSkillsNetwork20127838-2021-01-01\n",
    "\n",
    "* Chicago Crime Data\n",
    "\n",
    "https://cf-courses-data.s3.us.cloud-object-storage.appdomain.cloud/IBMDeveloperSkillsNetwork-DB0201EN-SkillsNetwork/labs/FinalModule_Coursera_V5/data/ChicagoCrimeData.csv?utm_medium=Exinfluencer&utm_source=Exinfluencer&utm_content=000026UJ&utm_term=10006555&utm_id=NA-SkillsNetwork-Channel-SkillsNetworkCoursesIBMDeveloperSkillsNetworkDB0201ENSkillsNetwork20127838-2021-01-01\n",
    "\n",
    "**NOTA:** Asegúrese de utilizar los conjuntos de datos disponibles en los enlaces anteriores en lugar de hacerlo directamente desde el Portal de datos de Chicago. Las versiones vinculadas aquí son subconjuntos de los conjuntos de datos originales y tienen algunos de los nombres de columnas modificados para que sean más compatibles con la base de datos, lo que facilitará la realización de esta tarea."
   ]
  },
  {
   "cell_type": "markdown",
   "id": "7f6b6b24-60e5-413a-8748-c7823ba652f8",
   "metadata": {},
   "source": [
    "Ejecutamos la siguiente celda de código para evitar el error predeterminado de Prettytable."
   ]
  },
  {
   "cell_type": "code",
   "execution_count": 83,
   "id": "42a4769f-29dd-4b22-856a-35766c9da550",
   "metadata": {},
   "outputs": [
    {
     "name": "stdout",
     "output_type": "stream",
     "text": [
      "Requirement already satisfied: ipython-sql in c:\\users\\pc\\desktop\\data_science\\sql\\proyecto_final_sql\\.venv\\lib\\site-packages (0.5.0)\n",
      "Requirement already satisfied: prettytable in c:\\users\\pc\\desktop\\data_science\\sql\\proyecto_final_sql\\.venv\\lib\\site-packages (3.12.0)\n",
      "Requirement already satisfied: ipython in c:\\users\\pc\\desktop\\data_science\\sql\\proyecto_final_sql\\.venv\\lib\\site-packages (from ipython-sql) (8.29.0)\n",
      "Requirement already satisfied: sqlalchemy>=2.0 in c:\\users\\pc\\desktop\\data_science\\sql\\proyecto_final_sql\\.venv\\lib\\site-packages (from ipython-sql) (2.0.36)\n",
      "Requirement already satisfied: sqlparse in c:\\users\\pc\\desktop\\data_science\\sql\\proyecto_final_sql\\.venv\\lib\\site-packages (from ipython-sql) (0.5.1)\n",
      "Requirement already satisfied: six in c:\\users\\pc\\desktop\\data_science\\sql\\proyecto_final_sql\\.venv\\lib\\site-packages (from ipython-sql) (1.16.0)\n",
      "Requirement already satisfied: ipython-genutils in c:\\users\\pc\\desktop\\data_science\\sql\\proyecto_final_sql\\.venv\\lib\\site-packages (from ipython-sql) (0.2.0)\n",
      "Requirement already satisfied: wcwidth in c:\\users\\pc\\desktop\\data_science\\sql\\proyecto_final_sql\\.venv\\lib\\site-packages (from prettytable) (0.2.13)\n",
      "Requirement already satisfied: typing-extensions>=4.6.0 in c:\\users\\pc\\desktop\\data_science\\sql\\proyecto_final_sql\\.venv\\lib\\site-packages (from sqlalchemy>=2.0->ipython-sql) (4.12.2)\n",
      "Requirement already satisfied: greenlet!=0.4.17 in c:\\users\\pc\\desktop\\data_science\\sql\\proyecto_final_sql\\.venv\\lib\\site-packages (from sqlalchemy>=2.0->ipython-sql) (3.1.1)\n",
      "Requirement already satisfied: decorator in c:\\users\\pc\\desktop\\data_science\\sql\\proyecto_final_sql\\.venv\\lib\\site-packages (from ipython->ipython-sql) (5.1.1)\n",
      "Requirement already satisfied: jedi>=0.16 in c:\\users\\pc\\desktop\\data_science\\sql\\proyecto_final_sql\\.venv\\lib\\site-packages (from ipython->ipython-sql) (0.19.2)\n",
      "Requirement already satisfied: matplotlib-inline in c:\\users\\pc\\desktop\\data_science\\sql\\proyecto_final_sql\\.venv\\lib\\site-packages (from ipython->ipython-sql) (0.1.7)\n",
      "Requirement already satisfied: prompt-toolkit<3.1.0,>=3.0.41 in c:\\users\\pc\\desktop\\data_science\\sql\\proyecto_final_sql\\.venv\\lib\\site-packages (from ipython->ipython-sql) (3.0.48)\n",
      "Requirement already satisfied: pygments>=2.4.0 in c:\\users\\pc\\desktop\\data_science\\sql\\proyecto_final_sql\\.venv\\lib\\site-packages (from ipython->ipython-sql) (2.18.0)\n",
      "Requirement already satisfied: stack-data in c:\\users\\pc\\desktop\\data_science\\sql\\proyecto_final_sql\\.venv\\lib\\site-packages (from ipython->ipython-sql) (0.6.3)\n",
      "Requirement already satisfied: traitlets>=5.13.0 in c:\\users\\pc\\desktop\\data_science\\sql\\proyecto_final_sql\\.venv\\lib\\site-packages (from ipython->ipython-sql) (5.14.3)\n",
      "Requirement already satisfied: colorama in c:\\users\\pc\\desktop\\data_science\\sql\\proyecto_final_sql\\.venv\\lib\\site-packages (from ipython->ipython-sql) (0.4.6)\n",
      "Requirement already satisfied: parso<0.9.0,>=0.8.4 in c:\\users\\pc\\desktop\\data_science\\sql\\proyecto_final_sql\\.venv\\lib\\site-packages (from jedi>=0.16->ipython->ipython-sql) (0.8.4)\n",
      "Requirement already satisfied: executing>=1.2.0 in c:\\users\\pc\\desktop\\data_science\\sql\\proyecto_final_sql\\.venv\\lib\\site-packages (from stack-data->ipython->ipython-sql) (2.1.0)\n",
      "Requirement already satisfied: asttokens>=2.1.0 in c:\\users\\pc\\desktop\\data_science\\sql\\proyecto_final_sql\\.venv\\lib\\site-packages (from stack-data->ipython->ipython-sql) (2.4.1)\n",
      "Requirement already satisfied: pure-eval in c:\\users\\pc\\desktop\\data_science\\sql\\proyecto_final_sql\\.venv\\lib\\site-packages (from stack-data->ipython->ipython-sql) (0.2.3)\n",
      "Note: you may need to restart the kernel to use updated packages.\n"
     ]
    },
    {
     "name": "stderr",
     "output_type": "stream",
     "text": [
      "\n",
      "[notice] A new release of pip is available: 24.0 -> 24.3.1\n",
      "[notice] To update, run: python.exe -m pip install --upgrade pip\n"
     ]
    }
   ],
   "source": [
    "%pip install ipython-sql prettytable\n",
    "\n",
    "import prettytable\n",
    "\n",
    "prettytable.DEFAULT = 'DEFAULT'"
   ]
  },
  {
   "cell_type": "markdown",
   "id": "3d8e2a90-01d0-4cec-bb8a-f3c152262c0e",
   "metadata": {},
   "source": [
    "### Almacenar los conjuntos de datos en tablas de bases de datos\n",
    "\n",
    "Para analizar los datos mediante SQL, primero es necesario cargarlos en la base de datos SQLite.\n",
    "Crearemos tres tablas como se muestra a continuación:\n",
    "\n",
    "1.  **CENSUS_DATA**\n",
    "2.  **CHICAGO_PUBLIC_SCHOOLS**\n",
    "3.  **CHICAGO_CRIME_DATA**\n"
   ]
  },
  {
   "cell_type": "markdown",
   "id": "19acd637-3e73-451e-95e8-fcd06427c4ab",
   "metadata": {},
   "source": [
    "Importamos las bibliotecas `pandas` y `sqlite3` y establecemos una conexión a `FinalDB.db`"
   ]
  },
  {
   "cell_type": "code",
   "execution_count": 84,
   "id": "160c58b3-fd0c-4cbc-96d3-a352c0e4c1ca",
   "metadata": {},
   "outputs": [
    {
     "name": "stdout",
     "output_type": "stream",
     "text": [
      "Requirement already satisfied: pandas in c:\\users\\pc\\desktop\\data_science\\sql\\proyecto_final_sql\\.venv\\lib\\site-packages (2.2.3)\n",
      "Requirement already satisfied: numpy>=1.26.0 in c:\\users\\pc\\desktop\\data_science\\sql\\proyecto_final_sql\\.venv\\lib\\site-packages (from pandas) (2.1.3)\n",
      "Requirement already satisfied: python-dateutil>=2.8.2 in c:\\users\\pc\\desktop\\data_science\\sql\\proyecto_final_sql\\.venv\\lib\\site-packages (from pandas) (2.9.0.post0)\n",
      "Requirement already satisfied: pytz>=2020.1 in c:\\users\\pc\\desktop\\data_science\\sql\\proyecto_final_sql\\.venv\\lib\\site-packages (from pandas) (2024.2)\n",
      "Requirement already satisfied: tzdata>=2022.7 in c:\\users\\pc\\desktop\\data_science\\sql\\proyecto_final_sql\\.venv\\lib\\site-packages (from pandas) (2024.2)\n",
      "Requirement already satisfied: six>=1.5 in c:\\users\\pc\\desktop\\data_science\\sql\\proyecto_final_sql\\.venv\\lib\\site-packages (from python-dateutil>=2.8.2->pandas) (1.16.0)\n",
      "Note: you may need to restart the kernel to use updated packages.\n"
     ]
    },
    {
     "name": "stderr",
     "output_type": "stream",
     "text": [
      "\n",
      "[notice] A new release of pip is available: 24.0 -> 24.3.1\n",
      "[notice] To update, run: python.exe -m pip install --upgrade pip\n"
     ]
    }
   ],
   "source": [
    "%pip install pandas\n",
    "\n",
    "import pandas as pd\n",
    "import csv, sqlite3\n",
    "\n",
    "conn = sqlite3.connect('FinalDB.db')\n",
    "cursor = conn.cursor()"
   ]
  },
  {
   "cell_type": "markdown",
   "id": "510a0699-0f95-4b55-9c9c-8fbea8dec975",
   "metadata": {},
   "source": [
    "Importamos el módulo `Magic SQL` para trabajar más cómodos."
   ]
  },
  {
   "cell_type": "code",
   "execution_count": 85,
   "id": "3a5cdd47-86f4-42bf-9001-d3f07c07e2ce",
   "metadata": {},
   "outputs": [
    {
     "name": "stdout",
     "output_type": "stream",
     "text": [
      "Requirement already satisfied: ipython-sql in c:\\users\\pc\\desktop\\data_science\\sql\\proyecto_final_sql\\.venv\\lib\\site-packages (0.5.0)\n",
      "Requirement already satisfied: prettytable in c:\\users\\pc\\desktop\\data_science\\sql\\proyecto_final_sql\\.venv\\lib\\site-packages (from ipython-sql) (3.12.0)\n",
      "Requirement already satisfied: ipython in c:\\users\\pc\\desktop\\data_science\\sql\\proyecto_final_sql\\.venv\\lib\\site-packages (from ipython-sql) (8.29.0)\n",
      "Requirement already satisfied: sqlalchemy>=2.0 in c:\\users\\pc\\desktop\\data_science\\sql\\proyecto_final_sql\\.venv\\lib\\site-packages (from ipython-sql) (2.0.36)\n",
      "Requirement already satisfied: sqlparse in c:\\users\\pc\\desktop\\data_science\\sql\\proyecto_final_sql\\.venv\\lib\\site-packages (from ipython-sql) (0.5.1)\n",
      "Requirement already satisfied: six in c:\\users\\pc\\desktop\\data_science\\sql\\proyecto_final_sql\\.venv\\lib\\site-packages (from ipython-sql) (1.16.0)\n",
      "Requirement already satisfied: ipython-genutils in c:\\users\\pc\\desktop\\data_science\\sql\\proyecto_final_sql\\.venv\\lib\\site-packages (from ipython-sql) (0.2.0)\n",
      "Requirement already satisfied: typing-extensions>=4.6.0 in c:\\users\\pc\\desktop\\data_science\\sql\\proyecto_final_sql\\.venv\\lib\\site-packages (from sqlalchemy>=2.0->ipython-sql) (4.12.2)\n",
      "Requirement already satisfied: greenlet!=0.4.17 in c:\\users\\pc\\desktop\\data_science\\sql\\proyecto_final_sql\\.venv\\lib\\site-packages (from sqlalchemy>=2.0->ipython-sql) (3.1.1)\n",
      "Requirement already satisfied: decorator in c:\\users\\pc\\desktop\\data_science\\sql\\proyecto_final_sql\\.venv\\lib\\site-packages (from ipython->ipython-sql) (5.1.1)\n",
      "Requirement already satisfied: jedi>=0.16 in c:\\users\\pc\\desktop\\data_science\\sql\\proyecto_final_sql\\.venv\\lib\\site-packages (from ipython->ipython-sql) (0.19.2)\n",
      "Requirement already satisfied: matplotlib-inline in c:\\users\\pc\\desktop\\data_science\\sql\\proyecto_final_sql\\.venv\\lib\\site-packages (from ipython->ipython-sql) (0.1.7)\n",
      "Requirement already satisfied: prompt-toolkit<3.1.0,>=3.0.41 in c:\\users\\pc\\desktop\\data_science\\sql\\proyecto_final_sql\\.venv\\lib\\site-packages (from ipython->ipython-sql) (3.0.48)\n",
      "Requirement already satisfied: pygments>=2.4.0 in c:\\users\\pc\\desktop\\data_science\\sql\\proyecto_final_sql\\.venv\\lib\\site-packages (from ipython->ipython-sql) (2.18.0)\n",
      "Requirement already satisfied: stack-data in c:\\users\\pc\\desktop\\data_science\\sql\\proyecto_final_sql\\.venv\\lib\\site-packages (from ipython->ipython-sql) (0.6.3)\n",
      "Requirement already satisfied: traitlets>=5.13.0 in c:\\users\\pc\\desktop\\data_science\\sql\\proyecto_final_sql\\.venv\\lib\\site-packages (from ipython->ipython-sql) (5.14.3)\n",
      "Requirement already satisfied: colorama in c:\\users\\pc\\desktop\\data_science\\sql\\proyecto_final_sql\\.venv\\lib\\site-packages (from ipython->ipython-sql) (0.4.6)\n",
      "Requirement already satisfied: wcwidth in c:\\users\\pc\\desktop\\data_science\\sql\\proyecto_final_sql\\.venv\\lib\\site-packages (from prettytable->ipython-sql) (0.2.13)\n",
      "Requirement already satisfied: parso<0.9.0,>=0.8.4 in c:\\users\\pc\\desktop\\data_science\\sql\\proyecto_final_sql\\.venv\\lib\\site-packages (from jedi>=0.16->ipython->ipython-sql) (0.8.4)\n",
      "Requirement already satisfied: executing>=1.2.0 in c:\\users\\pc\\desktop\\data_science\\sql\\proyecto_final_sql\\.venv\\lib\\site-packages (from stack-data->ipython->ipython-sql) (2.1.0)\n",
      "Requirement already satisfied: asttokens>=2.1.0 in c:\\users\\pc\\desktop\\data_science\\sql\\proyecto_final_sql\\.venv\\lib\\site-packages (from stack-data->ipython->ipython-sql) (2.4.1)\n",
      "Requirement already satisfied: pure-eval in c:\\users\\pc\\desktop\\data_science\\sql\\proyecto_final_sql\\.venv\\lib\\site-packages (from stack-data->ipython->ipython-sql) (0.2.3)\n",
      "Note: you may need to restart the kernel to use updated packages.\n",
      "The sql extension is already loaded. To reload it, use:\n",
      "  %reload_ext sql\n"
     ]
    },
    {
     "name": "stderr",
     "output_type": "stream",
     "text": [
      "\n",
      "[notice] A new release of pip is available: 24.0 -> 24.3.1\n",
      "[notice] To update, run: python.exe -m pip install --upgrade pip\n"
     ]
    }
   ],
   "source": [
    "%pip install ipython-sql\n",
    "\n",
    "%load_ext sql\n"
   ]
  },
  {
   "cell_type": "markdown",
   "id": "5b4e9540-4247-47a9-a188-e6a9e1444a64",
   "metadata": {},
   "source": [
    "Usamos `Pandas` para cargar los datos disponibles en los enlaces anteriores, en 3 dataframes para luego cargar los datos en la base de datos ``FinalDB.db `` como las tablas requeridas.\n"
   ]
  },
  {
   "cell_type": "code",
   "execution_count": 176,
   "id": "6ab835f9-ba37-4bf1-b732-7a3404185166",
   "metadata": {},
   "outputs": [],
   "source": [
    "# leemos los archivos csv y los guardamos en variables como DataFrames de pandas\n",
    "CENSUS_DATA = pd.read_csv('./ChicagoCensusData.csv')\n",
    "CHICAGO_PUBLIC_SCHOOLS = pd.read_csv('./ChicagoPublicSchools.csv')\n",
    "CHICAGO_CRIME_DATA = pd.read_csv('./ChicagoCrimeData.csv')\n",
    "\n",
    "# Cargamos los DataFrames en la base de datos \"FinalDB.db\"\n",
    "CENSUS_DATA.to_sql(\"chicago_socioeconomic_data\", conn, if_exists='replace', index=False, method=\"multi\")\n",
    "CHICAGO_CRIME_DATA.to_sql(\"chicago_crime_data\", conn, if_exists='replace', index=False, method=\"multi\")\n",
    "\n",
    "\n",
    "#Los parametros de insert para la consulta \"CHICAGO_PUBLIC_SCHOOLS\" superan \n",
    "# los permitidos por lo tanto procedemos a cargarlo por lotes\n",
    "\n",
    "# Definimos el tamaño del lote para dividir el DataFrame en partes más pequeñas\n",
    "lote_size = 500  \n",
    "\n",
    "# Iteramos sobre el DataFrame en lotes y cargamos cada lote en la tabla de SQL\n",
    "for i in range(0, len(CHICAGO_PUBLIC_SCHOOLS), lote_size):\n",
    "    lote = CHICAGO_PUBLIC_SCHOOLS.iloc[i:i+lote_size]\n",
    "    lote.to_sql(\"chicago_public_schools_data\", conn, if_exists='append', index=False)"
   ]
  },
  {
   "cell_type": "markdown",
   "id": "2448eeb5-12e6-4898-8e31-832a93785e7a",
   "metadata": {},
   "source": [
    "Establecemos una conexión entre el módulo `Magic SQL` y la base de datos `FinalDB.db`.\n"
   ]
  },
  {
   "cell_type": "code",
   "execution_count": 177,
   "metadata": {},
   "outputs": [],
   "source": [
    "%sql sqlite:///FinalDB.db"
   ]
  },
  {
   "cell_type": "markdown",
   "id": "fa2690d5-7f74-40c1-8504-7156d7a928c3",
   "metadata": {},
   "source": [
    "Ahora que ya tenemos el entorno listo para trabajar procedemos a reponder el siguiente cuestionario.\n",
    "\n",
    "---------\n"
   ]
  },
  {
   "cell_type": "markdown",
   "id": "643b317b-661f-4f02-9272-cc6f20d1bfae",
   "metadata": {},
   "source": [
    "## Problemas\n",
    "\n",
    "Ahora escriba y ejecute consultas SQL para resolver los siguientes problemas de asignación:\n",
    "\n",
    "### Problema 1\n",
    "\n",
    "##### Encuentre la cantidad total de delitos registrados en la tabla CHICAGO_CRIME_DATA.\n"
   ]
  },
  {
   "cell_type": "code",
   "execution_count": null,
   "id": "1de22411-3b11-4823-abc8-352625c1573d",
   "metadata": {},
   "outputs": [
    {
     "name": "stdout",
     "output_type": "stream",
     "text": [
      " * sqlite:///FinalDB.db\n",
      "Done.\n"
     ]
    },
    {
     "data": {
      "text/html": [
       "<table>\n",
       "    <thead>\n",
       "        <tr>\n",
       "            <th>COUNT(*)</th>\n",
       "        </tr>\n",
       "    </thead>\n",
       "    <tbody>\n",
       "        <tr>\n",
       "            <td>533</td>\n",
       "        </tr>\n",
       "    </tbody>\n",
       "</table>"
      ],
      "text/plain": [
       "[(533,)]"
      ]
     },
     "execution_count": 178,
     "metadata": {},
     "output_type": "execute_result"
    }
   ],
   "source": [
    "#El numero de delitos se puede entender como la cantidad de registros que hay en la tabla.\n",
    "%sql SELECT COUNT(*) FROM chicago_crime_data"
   ]
  },
  {
   "cell_type": "markdown",
   "id": "087878d7-170c-4e02-9ea2-2e349aff0418",
   "metadata": {},
   "source": [
    "### Problema 2\n",
    "\n",
    "##### Enumere los nombres y números de las áreas comunitarias con un ingreso per cápita menor a 11 000.\n"
   ]
  },
  {
   "cell_type": "code",
   "execution_count": 182,
   "id": "c404b402-871f-409c-aad7-a25fa4975f06",
   "metadata": {},
   "outputs": [
    {
     "name": "stdout",
     "output_type": "stream",
     "text": [
      " * sqlite:///FinalDB.db\n",
      "Done.\n"
     ]
    },
    {
     "data": {
      "text/html": [
       "<table>\n",
       "    <thead>\n",
       "        <tr>\n",
       "            <th>nombre_comunidad</th>\n",
       "            <th>numero_area</th>\n",
       "            <th>ingreso_per_capita</th>\n",
       "        </tr>\n",
       "    </thead>\n",
       "    <tbody>\n",
       "        <tr>\n",
       "            <td>West Garfield Park</td>\n",
       "            <td>26.0</td>\n",
       "            <td>10934</td>\n",
       "        </tr>\n",
       "        <tr>\n",
       "            <td>South Lawndale</td>\n",
       "            <td>30.0</td>\n",
       "            <td>10402</td>\n",
       "        </tr>\n",
       "        <tr>\n",
       "            <td>Fuller Park</td>\n",
       "            <td>37.0</td>\n",
       "            <td>10432</td>\n",
       "        </tr>\n",
       "        <tr>\n",
       "            <td>Riverdale</td>\n",
       "            <td>54.0</td>\n",
       "            <td>8201</td>\n",
       "        </tr>\n",
       "    </tbody>\n",
       "</table>"
      ],
      "text/plain": [
       "[('West Garfield Park', 26.0, 10934),\n",
       " ('South Lawndale', 30.0, 10402),\n",
       " ('Fuller Park', 37.0, 10432),\n",
       " ('Riverdale', 54.0, 8201)]"
      ]
     },
     "execution_count": 182,
     "metadata": {},
     "output_type": "execute_result"
    }
   ],
   "source": [
    "%%sql \n",
    "SELECT \n",
    "community_area_name AS nombre_comunidad, \n",
    "community_area_number AS numero_area,\n",
    "per_capita_income AS ingreso_per_capita\n",
    "FROM chicago_socioeconomic_data\n",
    "WHERE PER_CAPITA_INCOME < 11000"
   ]
  },
  {
   "cell_type": "markdown",
   "id": "71ec70a6-4e33-4ab1-ac74-2fb8ecba903f",
   "metadata": {},
   "source": [
    "### Problema 3\n",
    "\n",
    "##### Enumere todos los números de casos de delitos que involucran a menores (los niños no se consideran menores a los efectos del análisis de delitos).\n"
   ]
  },
  {
   "cell_type": "code",
   "execution_count": 183,
   "id": "cc12c9e7-b1dd-4021-ac54-01ddb57d537f",
   "metadata": {},
   "outputs": [
    {
     "name": "stdout",
     "output_type": "stream",
     "text": [
      " * sqlite:///FinalDB.db\n",
      "Done.\n"
     ]
    },
    {
     "data": {
      "text/html": [
       "<table>\n",
       "    <thead>\n",
       "        <tr>\n",
       "            <th>CASE_NUMBER</th>\n",
       "        </tr>\n",
       "    </thead>\n",
       "    <tbody>\n",
       "        <tr>\n",
       "            <td>HL266884</td>\n",
       "        </tr>\n",
       "        <tr>\n",
       "            <td>HK238408</td>\n",
       "        </tr>\n",
       "    </tbody>\n",
       "</table>"
      ],
      "text/plain": [
       "[('HL266884',), ('HK238408',)]"
      ]
     },
     "execution_count": 183,
     "metadata": {},
     "output_type": "execute_result"
    }
   ],
   "source": [
    "%%sql \n",
    "SELECT case_number FROM chicago_crime_data\n",
    "WHERE description LIKE '%MINOR%'"
   ]
  },
  {
   "cell_type": "markdown",
   "id": "154da755-1ebb-49e5-a0a5-a611fcfea7a0",
   "metadata": {},
   "source": [
    "### Problema 4\n",
    "\n",
    "##### Enumere todos los delitos de secuestro que involucran a un niño.\n"
   ]
  },
  {
   "cell_type": "code",
   "execution_count": 185,
   "id": "31baf0e8-5367-4f23-af98-07af0a1e2c33",
   "metadata": {},
   "outputs": [
    {
     "name": "stdout",
     "output_type": "stream",
     "text": [
      " * sqlite:///FinalDB.db\n",
      "Done.\n"
     ]
    },
    {
     "data": {
      "text/html": [
       "<table>\n",
       "    <thead>\n",
       "        <tr>\n",
       "            <th>CASE_NUMBER</th>\n",
       "        </tr>\n",
       "    </thead>\n",
       "    <tbody>\n",
       "        <tr>\n",
       "            <td>HN144152</td>\n",
       "        </tr>\n",
       "    </tbody>\n",
       "</table>"
      ],
      "text/plain": [
       "[('HN144152',)]"
      ]
     },
     "execution_count": 185,
     "metadata": {},
     "output_type": "execute_result"
    }
   ],
   "source": [
    "%%sql \n",
    "SELECT case_number FROM chicago_crime_data\n",
    "WHERE primary_type = 'KIDNAPPING' AND description LIKE '%CHILD%'"
   ]
  },
  {
   "cell_type": "markdown",
   "id": "1b1bf6ce-beed-4e60-a12c-7fcbdadf8fe0",
   "metadata": {},
   "source": [
    "### Problema 5\n",
    "\n",
    "##### Enumere los tipos de delitos que se registraron en las escuelas. (Sin repeticiones)\n"
   ]
  },
  {
   "cell_type": "code",
   "execution_count": 186,
   "id": "5780b5f7-a71d-415c-be7a-02282f451036",
   "metadata": {},
   "outputs": [
    {
     "name": "stdout",
     "output_type": "stream",
     "text": [
      " * sqlite:///FinalDB.db\n",
      "Done.\n"
     ]
    },
    {
     "data": {
      "text/html": [
       "<table>\n",
       "    <thead>\n",
       "        <tr>\n",
       "            <th>crime_type</th>\n",
       "        </tr>\n",
       "    </thead>\n",
       "    <tbody>\n",
       "        <tr>\n",
       "            <td>BATTERY</td>\n",
       "        </tr>\n",
       "        <tr>\n",
       "            <td>CRIMINAL DAMAGE</td>\n",
       "        </tr>\n",
       "        <tr>\n",
       "            <td>NARCOTICS</td>\n",
       "        </tr>\n",
       "        <tr>\n",
       "            <td>ASSAULT</td>\n",
       "        </tr>\n",
       "        <tr>\n",
       "            <td>CRIMINAL TRESPASS</td>\n",
       "        </tr>\n",
       "        <tr>\n",
       "            <td>PUBLIC PEACE VIOLATION</td>\n",
       "        </tr>\n",
       "    </tbody>\n",
       "</table>"
      ],
      "text/plain": [
       "[('BATTERY',),\n",
       " ('CRIMINAL DAMAGE',),\n",
       " ('NARCOTICS',),\n",
       " ('ASSAULT',),\n",
       " ('CRIMINAL TRESPASS',),\n",
       " ('PUBLIC PEACE VIOLATION',)]"
      ]
     },
     "execution_count": 186,
     "metadata": {},
     "output_type": "execute_result"
    }
   ],
   "source": [
    "%%sql\n",
    "SELECT DISTINCT primary_type AS crime_type FROM chicago_crime_data\n",
    "WHERE location_description LIKE'%SCHOOL%'"
   ]
  },
  {
   "cell_type": "markdown",
   "id": "79fb5931-d9a9-4682-a8d2-27e79787b4c4",
   "metadata": {},
   "source": [
    "### Problema 6\n",
    "\n",
    "##### Enumere el tipo de escuelas junto con el puntaje de seguridad promedio para cada tipo.\n"
   ]
  },
  {
   "cell_type": "code",
   "execution_count": 189,
   "id": "b07434a2-7b18-47e4-bacf-89efcf08d788",
   "metadata": {},
   "outputs": [
    {
     "name": "stdout",
     "output_type": "stream",
     "text": [
      " * sqlite:///FinalDB.db\n",
      "Done.\n"
     ]
    },
    {
     "data": {
      "text/html": [
       "<table>\n",
       "    <thead>\n",
       "        <tr>\n",
       "            <th>tipo_escuela</th>\n",
       "            <th>Score_Safety_promedio_por_tipo_escuela</th>\n",
       "        </tr>\n",
       "    </thead>\n",
       "    <tbody>\n",
       "        <tr>\n",
       "            <td>ES</td>\n",
       "            <td>49.52038369304557</td>\n",
       "        </tr>\n",
       "        <tr>\n",
       "            <td>HS</td>\n",
       "            <td>49.62352941176471</td>\n",
       "        </tr>\n",
       "        <tr>\n",
       "            <td>MS</td>\n",
       "            <td>48.0</td>\n",
       "        </tr>\n",
       "    </tbody>\n",
       "</table>"
      ],
      "text/plain": [
       "[('ES', 49.52038369304557), ('HS', 49.62352941176471), ('MS', 48.0)]"
      ]
     },
     "execution_count": 189,
     "metadata": {},
     "output_type": "execute_result"
    }
   ],
   "source": [
    "%%sql \n",
    "SELECT DISTINCT Elementary_Middle_or_High_School AS tipo_escuela,\n",
    "    AVG(safety_score) AS Score_Safety_promedio_por_tipo_escuela\n",
    "FROM chicago_public_schools_data\n",
    "WHERE Elementary_Middle_or_High_School IN ('ES','HS','MS')\n",
    "GROUP BY \n",
    "    Elementary_Middle_or_High_School\n",
    "ORDER BY \n",
    "    Elementary_Middle_or_High_School\n"
   ]
  },
  {
   "cell_type": "markdown",
   "id": "da7adb06-5c12-4bc7-ad9d-f338e0a2cfc4",
   "metadata": {},
   "source": [
    "### Problema 7\n",
    "\n",
    "##### Enumere 5 áreas comunitarias con el mayor porcentaje de hogares por debajo de la línea de pobreza"
   ]
  },
  {
   "cell_type": "code",
   "execution_count": 193,
   "id": "edee6225-92fa-4707-a2a4-5554cb1d5f50",
   "metadata": {},
   "outputs": [
    {
     "name": "stdout",
     "output_type": "stream",
     "text": [
      " * sqlite:///FinalDB.db\n",
      "Done.\n"
     ]
    },
    {
     "data": {
      "text/html": [
       "<table>\n",
       "    <thead>\n",
       "        <tr>\n",
       "            <th>areas_mayor_nivel_pobreza</th>\n",
       "        </tr>\n",
       "    </thead>\n",
       "    <tbody>\n",
       "        <tr>\n",
       "            <td>Riverdale</td>\n",
       "        </tr>\n",
       "        <tr>\n",
       "            <td>Fuller Park</td>\n",
       "        </tr>\n",
       "        <tr>\n",
       "            <td>Englewood</td>\n",
       "        </tr>\n",
       "        <tr>\n",
       "            <td>North Lawndale</td>\n",
       "        </tr>\n",
       "        <tr>\n",
       "            <td>East Garfield Park</td>\n",
       "        </tr>\n",
       "    </tbody>\n",
       "</table>"
      ],
      "text/plain": [
       "[('Riverdale',),\n",
       " ('Fuller Park',),\n",
       " ('Englewood',),\n",
       " ('North Lawndale',),\n",
       " ('East Garfield Park',)]"
      ]
     },
     "execution_count": 193,
     "metadata": {},
     "output_type": "execute_result"
    }
   ],
   "source": [
    "%%sql\n",
    "SELECT community_area_name AS areas_mayor_nivel_pobreza \n",
    "FROM chicago_socioeconomic_data\n",
    "ORDER BY percent_households_below_poverty DESC \n",
    "LIMIT 5"
   ]
  },
  {
   "cell_type": "markdown",
   "id": "70500140-3615-42d2-9f07-8f9a65b4c55d",
   "metadata": {},
   "source": [
    "### Problema 8\n",
    "##### ¿Qué área de la comunidad es más propensa a la delincuencia? Muestre solo el número de área de la comunidad.\n"
   ]
  },
  {
   "cell_type": "code",
   "execution_count": 201,
   "id": "21cbd86f-5cdd-4229-a8e0-4624ce437b6e",
   "metadata": {},
   "outputs": [
    {
     "name": "stdout",
     "output_type": "stream",
     "text": [
      " * sqlite:///FinalDB.db\n",
      "Done.\n"
     ]
    },
    {
     "data": {
      "text/html": [
       "<table>\n",
       "    <thead>\n",
       "        <tr>\n",
       "            <th>COMMUNITY_AREA_NUMBER</th>\n",
       "            <th>numero_delitos</th>\n",
       "        </tr>\n",
       "    </thead>\n",
       "    <tbody>\n",
       "        <tr>\n",
       "            <td>25.0</td>\n",
       "            <td>43</td>\n",
       "        </tr>\n",
       "    </tbody>\n",
       "</table>"
      ],
      "text/plain": [
       "[(25.0, 43)]"
      ]
     },
     "execution_count": 201,
     "metadata": {},
     "output_type": "execute_result"
    }
   ],
   "source": [
    "%%sql\n",
    "SELECT community_area_number, COUNT(*) AS numero_delitos FROM chicago_crime_data\n",
    "GROUP BY community_area_number\n",
    "ORDER BY numero_delitos\n",
    "DESC LIMIT 1"
   ]
  },
  {
   "cell_type": "markdown",
   "id": "93d08e4b-8822-418c-9595-4ba7a5710df2",
   "metadata": {},
   "source": [
    "### Problema 9\n",
    "\n",
    "##### Utilice una subconsulta para encontrar el nombre del área comunitaria con el índice de dificultad más alto\n"
   ]
  },
  {
   "cell_type": "code",
   "execution_count": 205,
   "id": "f3e290a6-a75c-4d78-875a-b8628ddf7726",
   "metadata": {},
   "outputs": [
    {
     "name": "stdout",
     "output_type": "stream",
     "text": [
      " * sqlite:///FinalDB.db\n",
      "Done.\n"
     ]
    },
    {
     "data": {
      "text/html": [
       "<table>\n",
       "    <thead>\n",
       "        <tr>\n",
       "            <th>area_comunidad</th>\n",
       "        </tr>\n",
       "    </thead>\n",
       "    <tbody>\n",
       "        <tr>\n",
       "            <td>Riverdale</td>\n",
       "        </tr>\n",
       "    </tbody>\n",
       "</table>"
      ],
      "text/plain": [
       "[('Riverdale',)]"
      ]
     },
     "execution_count": 205,
     "metadata": {},
     "output_type": "execute_result"
    }
   ],
   "source": [
    "%%sql\n",
    "SELECT community_area_name AS area_comunidad \n",
    "FROM chicago_socioeconomic_data\n",
    "WHERE hardship_index IN \n",
    "(SELECT MAX(hardship_index) FROM chicago_socioeconomic_data)"
   ]
  },
  {
   "cell_type": "markdown",
   "id": "79248a13-8cf3-4cd5-93e6-a4e03fca6de3",
   "metadata": {},
   "source": [
    "### Problema 10\n",
    "\n",
    "##### Utilice una subconsulta para determinar el nombre del área de la comunidad con mayor número de delitos."
   ]
  },
  {
   "cell_type": "code",
   "execution_count": 206,
   "id": "91fa8841-5219-412a-a7d5-0db0cbeeea5e",
   "metadata": {},
   "outputs": [
    {
     "name": "stdout",
     "output_type": "stream",
     "text": [
      " * sqlite:///FinalDB.db\n",
      "Done.\n"
     ]
    },
    {
     "data": {
      "text/html": [
       "<table>\n",
       "    <thead>\n",
       "        <tr>\n",
       "            <th>numero_area</th>\n",
       "            <th>nombre_ciudad</th>\n",
       "            <th>numero_delitos</th>\n",
       "        </tr>\n",
       "    </thead>\n",
       "    <tbody>\n",
       "        <tr>\n",
       "            <td>25.0</td>\n",
       "            <td>Austin</td>\n",
       "            <td>43</td>\n",
       "        </tr>\n",
       "    </tbody>\n",
       "</table>"
      ],
      "text/plain": [
       "[(25.0, 'Austin', 43)]"
      ]
     },
     "execution_count": 206,
     "metadata": {},
     "output_type": "execute_result"
    }
   ],
   "source": [
    "%%sql\n",
    "SELECT \n",
    "    census_data.community_area_number AS numero_area,\n",
    "    census_data.community_area_name AS nombre_ciudad,\n",
    "    crime_data.numero_delitos\n",
    "FROM \n",
    "    chicago_socioeconomic_data AS census_data\n",
    "JOIN \n",
    "    (SELECT community_area_number, COUNT(*) AS numero_delitos\n",
    "     FROM chicago_crime_data\n",
    "     GROUP BY community_area_number\n",
    "     ORDER BY numero_delitos DESC\n",
    "     LIMIT 1) AS crime_data\n",
    "ON \n",
    "    census_data.community_area_number = crime_data.community_area_number"
   ]
  },
  {
   "cell_type": "markdown",
   "id": "86a49480-85ec-4fd9-b4c9-e9f3dae41452",
   "metadata": {},
   "source": [
    "## Author(s)\n",
    "\n",
    "<h4> Hima Vasudevan </h4>\n",
    "<h4> Rav Ahuja </h4>\n",
    "<h4> Ramesh Sannreddy </h4>\n",
    "\n",
    "## Contribtuor(s)\n",
    "\n",
    "<h4> Malika Singla </h4>\n",
    "<h4>Abhishek Gagneja</h4>\n",
    "<!--\n",
    "## Change log\n",
    "\n",
    "| Date       | Version | Changed by        | Change Description                             |\n",
    "| ---------- | ------- | ----------------- | ---------------------------------------------- |\n",
    "|2023-10-18  | 2.6     | Abhishek Gagneja  | Modified instruction set |\n",
    "| 2022-03-04 | 2.5     | Lakshmi Holla     | Changed markdown.                   |\n",
    "| 2021-05-19 | 2.4     | Lakshmi Holla     | Updated the question                           |\n",
    "| 2021-04-30 | 2.3     | Malika Singla     | Updated the libraries                          |\n",
    "| 2021-01-15 | 2.2     | Rav Ahuja         | Removed problem 11 and fixed changelog         |\n",
    "| 2020-11-25 | 2.1     | Ramesh Sannareddy | Updated the problem statements, and datasets   |\n",
    "| 2020-09-05 | 2.0     | Malika Singla     | Moved lab to course repo in GitLab             |\n",
    "| 2018-07-18 | 1.0     | Rav Ahuja         | Several updates including loading instructions |\n",
    "| 2018-05-04 | 0.1     | Hima Vasudevan    | Created initial version                        |\n",
    "-->\n",
    "## <h3 align=\"center\"> © IBM Corporation 2023. All rights reserved. <h3/>\n"
   ]
  }
 ],
 "metadata": {
  "kernelspec": {
   "display_name": ".venv",
   "language": "python",
   "name": "python3"
  },
  "language_info": {
   "codemirror_mode": {
    "name": "ipython",
    "version": 3
   },
   "file_extension": ".py",
   "mimetype": "text/x-python",
   "name": "python",
   "nbconvert_exporter": "python",
   "pygments_lexer": "ipython3",
   "version": "3.12.3"
  },
  "prev_pub_hash": "1d4caa9dff548bba47d8f4339e735e64605120c41df87b27e2c5cffed5fd81c9"
 },
 "nbformat": 4,
 "nbformat_minor": 4
}
